{
 "cells": [
  {
   "cell_type": "code",
   "execution_count": 41,
   "metadata": {},
   "outputs": [],
   "source": [
    "import pandas as pd\n",
    "import ast"
   ]
  },
  {
   "cell_type": "code",
   "execution_count": 11,
   "metadata": {},
   "outputs": [],
   "source": [
    "def get_bigram_corpus(wordlist):\n",
    "    \"\"\"\n",
    "    Returns the bigram corpus given by the input [wordlist]\n",
    "    \n",
    "    get_bigram_corpus creates a dictionary with bigrams from the [wordlist]\n",
    "    as keys and counts the instances of each bigram to assign values (except\n",
    "    for the bigram ('.', '<s>') which represents the start of one review and\n",
    "    the end of another)\n",
    "    \n",
    "    wordlist: a list of words (strings)\n",
    "    \"\"\"\n",
    "    corpus = {}\n",
    "    for i, word in enumerate(wordlist[1:], start=1):\n",
    "        if word != '<s>':\n",
    "            if (wordlist[i-1], word) not in corpus:\n",
    "                corpus[(wordlist[i-1], word)] = 1\n",
    "            else:\n",
    "                corpus[(wordlist[i-1], word)] += 1\n",
    "    return corpus"
   ]
  },
  {
   "cell_type": "code",
   "execution_count": 12,
   "metadata": {},
   "outputs": [
    {
     "data": {
      "text/plain": [
       "{('Hello', 'my'): 1, ('my', 'name'): 1, ('name', 'is'): 1}"
      ]
     },
     "execution_count": 12,
     "metadata": {},
     "output_type": "execute_result"
    }
   ],
   "source": []
  },
  {
   "cell_type": "code",
   "execution_count": 49,
   "metadata": {},
   "outputs": [],
   "source": [
    "train_df = pd.read_csv('./data_release/train.csv', encoding='cp1252')"
   ]
  },
  {
   "cell_type": "code",
   "execution_count": 31,
   "metadata": {},
   "outputs": [
    {
     "name": "stdout",
     "output_type": "stream",
     "text": [
      "Ca n't fail to be entertaining .\n"
     ]
    }
   ],
   "source": [
    "\n",
    "for x in train_df.iterrows():\n",
    "    print(x[1][0])\n",
    "    break"
   ]
  },
  {
   "cell_type": "markdown",
   "metadata": {},
   "source": [
    "# HMM Model"
   ]
  },
  {
   "cell_type": "code",
   "execution_count": 47,
   "metadata": {},
   "outputs": [],
   "source": [
    "class HMM():\n",
    "    def __init__(self, training_df):\n",
    "        self.bigram_counts = {}\n",
    "        self.training_df = training_df\n",
    "        \n",
    "        self.count_bigrams()\n",
    "    \n",
    "    def count_bigrams(self):\n",
    "        for row in self.training_df.iterrows():\n",
    "            sentence_bigram_counts = get_bigram_corpus(ast.literal_eval(row[1][1]))\n",
    "            for bigram in sentence_bigram_counts: \n",
    "                if bigram in self.bigram_counts:\n",
    "                    self.bigram_counts[bigram] += sentence_bigram_counts[bigram]\n",
    "                else:\n",
    "                    self.bigram_counts[bigram] = sentence_bigram_counts[bigram]\n",
    "  \n",
    "        return self.bigram_counts\n",
    "            "
   ]
  },
  {
   "cell_type": "code",
   "execution_count": 48,
   "metadata": {},
   "outputs": [
    {
     "data": {
      "text/plain": [
       "{('VERB', 'ADV'): 5582,\n",
       " ('ADV', 'VERB'): 4260,\n",
       " ('VERB', 'PART'): 2752,\n",
       " ('PART', 'VERB'): 3470,\n",
       " ('VERB', 'ADJ'): 3158,\n",
       " ('ADJ', 'PUNCT'): 1456,\n",
       " ('ADV', 'ADJ'): 1666,\n",
       " ('ADJ', 'VERB'): 1058,\n",
       " ('VERB', 'PRON'): 3306,\n",
       " ('PRON', 'VERB'): 10176,\n",
       " ('PRON', 'PUNCT'): 1376,\n",
       " ('ADP', 'ADP'): 584,\n",
       " ('ADP', 'DET'): 9848,\n",
       " ('DET', 'NOUN'): 12206,\n",
       " ('NOUN', 'VERB'): 6582,\n",
       " ('VERB', 'DET'): 5424,\n",
       " ('DET', 'PROPN'): 1714,\n",
       " ('PROPN', 'PUNCT'): 2810,\n",
       " ('PUNCT', 'PROPN'): 1070,\n",
       " ('PROPN', 'VERB'): 2002,\n",
       " ('VERB', 'VERB'): 7364,\n",
       " ('NOUN', 'ADP'): 11322,\n",
       " ('ADP', 'ADJ'): 3906,\n",
       " ('ADJ', 'PROPN'): 346,\n",
       " ('PROPN', 'PROPN'): 2966,\n",
       " ('PROPN', 'NOUN'): 662,\n",
       " ('NOUN', 'PUNCT'): 10858,\n",
       " ('PART', 'ADP'): 406,\n",
       " ('NOUN', 'CCONJ'): 2496,\n",
       " ('CCONJ', 'VERB'): 1300,\n",
       " ('VERB', 'ADP'): 6132,\n",
       " ('ADP', 'PRON'): 2126,\n",
       " ('ADV', 'PRON'): 1000,\n",
       " ('ADV', 'PUNCT'): 2188,\n",
       " ('PUNCT', 'PRON'): 1610,\n",
       " ('CCONJ', 'PRON'): 870,\n",
       " ('PRON', 'DET'): 272,\n",
       " ('PUNCT', 'ADJ'): 1028,\n",
       " ('VERB', 'PUNCT'): 3284,\n",
       " ('PUNCT', 'ADV'): 1138,\n",
       " ('PUNCT', 'VERB'): 2106,\n",
       " ('CCONJ', 'NOUN'): 1172,\n",
       " ('ADJ', 'NOUN'): 11440,\n",
       " ('PUNCT', 'PART'): 78,\n",
       " ('ADP', 'NOUN'): 4742,\n",
       " ('VERB', 'CCONJ'): 502,\n",
       " ('PRON', 'ADJ'): 94,\n",
       " ('VERB', 'NOUN'): 2742,\n",
       " ('PUNCT', 'ADP'): 1560,\n",
       " ('ADJ', 'ADV'): 252,\n",
       " ('ADP', 'PROPN'): 2424,\n",
       " ('PUNCT', 'NUM'): 554,\n",
       " ('NUM', 'PUNCT'): 1014,\n",
       " ('DET', 'ADJ'): 5014,\n",
       " ('DET', 'VERB'): 1114,\n",
       " ('NOUN', 'PART'): 1212,\n",
       " ('PART', 'NOUN'): 788,\n",
       " ('NOUN', 'NOUN'): 4190,\n",
       " ('CCONJ', 'ADV'): 752,\n",
       " ('ADJ', 'NUM'): 120,\n",
       " ('NUM', 'ADV'): 48,\n",
       " ('PUNCT', 'NOUN'): 1010,\n",
       " ('NOUN', 'ADV'): 1296,\n",
       " ('NOUN', 'DET'): 476,\n",
       " ('NOUN', 'ADJ'): 986,\n",
       " ('ADP', 'NUM'): 824,\n",
       " ('NUM', 'NOUN'): 938,\n",
       " ('CCONJ', 'DET'): 858,\n",
       " ('PUNCT', 'DET'): 1360,\n",
       " ('ADJ', 'ADJ'): 1536,\n",
       " ('PART', 'ADJ'): 214,\n",
       " ('CCONJ', 'ADJ'): 932,\n",
       " ('ADJ', 'DET'): 412,\n",
       " ('ADJ', 'PART'): 430,\n",
       " ('CCONJ', 'ADP'): 450,\n",
       " ('ADV', 'ADV'): 1466,\n",
       " ('ADV', 'ADP'): 1530,\n",
       " ('DET', 'ADV'): 430,\n",
       " ('ADJ', 'CCONJ'): 616,\n",
       " ('ADP', 'ADV'): 572,\n",
       " ('PUNCT', 'CCONJ'): 1504,\n",
       " ('ADV', 'DET'): 790,\n",
       " ('ADJ', 'ADP'): 1408,\n",
       " ('ADP', 'VERB'): 994,\n",
       " ('DET', 'NUM'): 288,\n",
       " ('DET', 'PUNCT'): 318,\n",
       " ('PUNCT', 'INTJ'): 204,\n",
       " ('INTJ', 'PRON'): 422,\n",
       " ('PRON', 'PRON'): 90,\n",
       " ('ADV', 'CCONJ'): 242,\n",
       " ('DET', 'ADP'): 270,\n",
       " ('NUM', 'ADP'): 338,\n",
       " ('ADP', 'CCONJ'): 92,\n",
       " ('NOUN', 'PROPN'): 222,\n",
       " ('ADJ', 'PRON'): 196,\n",
       " ('VERB', 'PROPN'): 714,\n",
       " ('PROPN', 'CCONJ'): 636,\n",
       " ('CCONJ', 'PROPN'): 556,\n",
       " ('PROPN', 'INTJ'): 16,\n",
       " ('INTJ', 'VERB'): 112,\n",
       " ('PRON', 'NOUN'): 116,\n",
       " ('PROPN', 'ADP'): 842,\n",
       " ('PROPN', 'DET'): 60,\n",
       " ('PROPN', 'PART'): 726,\n",
       " ('DET', 'PRON'): 40,\n",
       " ('ADV', 'PART'): 188,\n",
       " ('NOUN', 'PRON'): 944,\n",
       " ('PRON', 'ADV'): 752,\n",
       " ('PART', 'PUNCT'): 424,\n",
       " ('ADV', 'NUM'): 134,\n",
       " ('DET', 'PART'): 44,\n",
       " ('NUM', 'VERB'): 158,\n",
       " ('PART', 'CCONJ'): 92,\n",
       " ('NOUN', 'NUM'): 152,\n",
       " ('PART', 'PART'): 42,\n",
       " ('PUNCT', 'X'): 8,\n",
       " ('X', 'NUM'): 4,\n",
       " ('PUNCT', 'PUNCT'): 786,\n",
       " ('PROPN', 'PRON'): 78,\n",
       " ('NUM', 'NUM'): 196,\n",
       " ('PART', 'DET'): 194,\n",
       " ('PRON', 'PART'): 264,\n",
       " ('PROPN', 'NUM'): 248,\n",
       " ('NUM', 'CCONJ'): 144,\n",
       " ('CCONJ', 'NUM'): 132,\n",
       " ('NUM', 'ADJ'): 168,\n",
       " ('NUM', 'PROPN'): 162,\n",
       " ('INTJ', 'INTJ'): 116,\n",
       " ('ADV', 'PROPN'): 112,\n",
       " ('PRON', 'ADP'): 484,\n",
       " ('VERB', 'INTJ'): 140,\n",
       " ('INTJ', 'DET'): 44,\n",
       " ('ADV', 'INTJ'): 36,\n",
       " ('INTJ', 'PUNCT'): 466,\n",
       " ('INTJ', 'CCONJ'): 44,\n",
       " ('CCONJ', 'PUNCT'): 96,\n",
       " ('VERB', 'NUM'): 466,\n",
       " ('ADJ', 'X'): 4,\n",
       " ('X', 'NOUN'): 6,\n",
       " ('ADP', 'PUNCT'): 328,\n",
       " ('PRON', 'CCONJ'): 136,\n",
       " ('ADV', 'NOUN'): 220,\n",
       " ('PART', 'ADV'): 102,\n",
       " ('INTJ', 'ADJ'): 26,\n",
       " ('INTJ', 'ADV'): 50,\n",
       " ('CCONJ', 'CCONJ'): 16,\n",
       " ('PART', 'PROPN'): 94,\n",
       " ('PROPN', 'ADV'): 206,\n",
       " ('PART', 'PRON'): 16,\n",
       " ('CCONJ', 'PART'): 62,\n",
       " ('CCONJ', 'INTJ'): 32,\n",
       " ('NUM', 'DET'): 46,\n",
       " ('PROPN', 'ADJ'): 106,\n",
       " ('DET', 'INTJ'): 22,\n",
       " ('NUM', 'PART'): 24,\n",
       " ('ADP', 'PART'): 50,\n",
       " ('PRON', 'INTJ'): 26,\n",
       " ('NUM', 'PRON'): 46,\n",
       " ('DET', 'CCONJ'): 40,\n",
       " ('INTJ', 'NOUN'): 44,\n",
       " ('PRON', 'NUM'): 16,\n",
       " ('PART', 'NUM'): 28,\n",
       " ('INTJ', 'ADP'): 50,\n",
       " ('NOUN', 'INTJ'): 28,\n",
       " ('DET', 'DET'): 38,\n",
       " ('ADP', 'X'): 8,\n",
       " ('X', 'X'): 6,\n",
       " ('ADP', 'INTJ'): 32,\n",
       " ('INTJ', 'PROPN'): 36,\n",
       " ('NOUN', 'SYM'): 4,\n",
       " ('SYM', 'NOUN'): 4,\n",
       " ('INTJ', 'NUM'): 16,\n",
       " ('PRON', 'PROPN'): 14,\n",
       " ('ADJ', 'INTJ'): 10,\n",
       " ('NOUN', 'X'): 4,\n",
       " ('X', 'ADJ'): 2,\n",
       " ('PRON', 'X'): 2,\n",
       " ('X', 'ADV'): 2,\n",
       " ('X', 'VERB'): 4,\n",
       " ('PROPN', 'X'): 6,\n",
       " ('X', 'PUNCT'): 8,\n",
       " ('X', 'DET'): 2,\n",
       " ('PART', 'INTJ'): 8,\n",
       " ('X', 'PROPN'): 4,\n",
       " ('DET', 'X'): 2,\n",
       " ('NUM', 'INTJ'): 4,\n",
       " ('NUM', 'SYM'): 2,\n",
       " ('PROPN', 'SYM'): 4,\n",
       " ('SYM', 'NUM'): 2,\n",
       " ('SYM', 'ADJ'): 2,\n",
       " ('X', 'CCONJ'): 2,\n",
       " ('SYM', 'PUNCT'): 2,\n",
       " ('INTJ', 'PART'): 2}"
      ]
     },
     "execution_count": 48,
     "metadata": {},
     "output_type": "execute_result"
    }
   ],
   "source": [
    "hmm = HMM(train_df)\n",
    "hmm.count_bigrams()"
   ]
  },
  {
   "cell_type": "code",
   "execution_count": 42,
   "metadata": {},
   "outputs": [],
   "source": [
    "k = '[\"hello\", \"hi\"]'"
   ]
  },
  {
   "cell_type": "code",
   "execution_count": 43,
   "metadata": {},
   "outputs": [],
   "source": [
    "y = ast.literal_eval(k)"
   ]
  },
  {
   "cell_type": "code",
   "execution_count": 44,
   "metadata": {},
   "outputs": [
    {
     "data": {
      "text/plain": [
       "['hello', 'hi']"
      ]
     },
     "execution_count": 44,
     "metadata": {},
     "output_type": "execute_result"
    }
   ],
   "source": [
    "y"
   ]
  },
  {
   "cell_type": "code",
   "execution_count": null,
   "metadata": {},
   "outputs": [],
   "source": []
  }
 ],
 "metadata": {
  "kernelspec": {
   "display_name": "Python 3",
   "language": "python",
   "name": "python3"
  },
  "language_info": {
   "codemirror_mode": {
    "name": "ipython",
    "version": 3
   },
   "file_extension": ".py",
   "mimetype": "text/x-python",
   "name": "python",
   "nbconvert_exporter": "python",
   "pygments_lexer": "ipython3",
   "version": "3.6.8"
  }
 },
 "nbformat": 4,
 "nbformat_minor": 2
}
